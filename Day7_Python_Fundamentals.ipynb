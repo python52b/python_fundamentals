{
 "cells": [
  {
   "cell_type": "code",
   "execution_count": 2,
   "id": "d5ed1710",
   "metadata": {},
   "outputs": [
    {
     "name": "stdout",
     "output_type": "stream",
     "text": [
      "['toyota', 'benz', 'suzki', 'audi', 'honda']\n"
     ]
    }
   ],
   "source": [
    "# conditional clauses\n",
    "cars=['toyota','benz','suzki','audi','honda']\n",
    "print (cars)"
   ]
  },
  {
   "cell_type": "code",
   "execution_count": 5,
   "id": "ec7dc669",
   "metadata": {},
   "outputs": [
    {
     "name": "stdout",
     "output_type": "stream",
     "text": [
      "Toyota\n",
      "Benz\n",
      "Suzki\n",
      "Audi\n",
      "HONDA\n"
     ]
    }
   ],
   "source": [
    "# print only honda in upper and remaining title case\n",
    "for i in cars:\n",
    "    if i=='honda':\n",
    "        print (i.upper())\n",
    "    else:\n",
    "        print(i.title())\n",
    "     \n",
    "        "
   ]
  },
  {
   "cell_type": "code",
   "execution_count": 6,
   "id": "0b56c589",
   "metadata": {},
   "outputs": [
    {
     "name": "stdout",
     "output_type": "stream",
     "text": [
      "How are you?I am fine\n",
      "I am fine\n"
     ]
    }
   ],
   "source": [
    "# accepting the user input\n",
    "message = input(\"How are you?\")\n",
    "print (message)"
   ]
  },
  {
   "cell_type": "code",
   "execution_count": 8,
   "id": "986801d7",
   "metadata": {},
   "outputs": [
    {
     "name": "stdout",
     "output_type": "stream",
     "text": [
      "Enter your full name :Ram Musyala\n",
      "Welcome to Python world, Ram Musyala\n"
     ]
    }
   ],
   "source": [
    "# greet user based on the input\n",
    "prompt = input(\"Enter your full name :\")\n",
    "print (f\"Welcome to Python world, {prompt}\")"
   ]
  },
  {
   "cell_type": "code",
   "execution_count": 16,
   "id": "76c54a1f",
   "metadata": {},
   "outputs": [
    {
     "name": "stdout",
     "output_type": "stream",
     "text": [
      "Please enter your age:31\n"
     ]
    },
    {
     "data": {
      "text/plain": [
       "True"
      ]
     },
     "execution_count": 16,
     "metadata": {},
     "output_type": "execute_result"
    }
   ],
   "source": [
    "# Convert the datatype\n",
    "age = input (\"Please enter your age:\")\n",
    "type(age)\n",
    "age = int(age)\n",
    "age>=8"
   ]
  },
  {
   "cell_type": "code",
   "execution_count": 21,
   "id": "5e304f3c",
   "metadata": {},
   "outputs": [
    {
     "name": "stdout",
     "output_type": "stream",
     "text": [
      "Enter you annual Income:1000\n",
      "you are tax free\n"
     ]
    }
   ],
   "source": [
    "# Buiding simple Eligibility criteria\n",
    "income = input(\"Enter you annual Income:\")\n",
    "income=int(income)\n",
    "if income>=10000000:\n",
    "    print (\"you are tax payer\")\n",
    "else:\n",
    "    print(\"you are tax free\")"
   ]
  },
  {
   "cell_type": "code",
   "execution_count": null,
   "id": "8faae800",
   "metadata": {},
   "outputs": [],
   "source": []
  }
 ],
 "metadata": {
  "kernelspec": {
   "display_name": "Python 3",
   "language": "python",
   "name": "python3"
  },
  "language_info": {
   "codemirror_mode": {
    "name": "ipython",
    "version": 3
   },
   "file_extension": ".py",
   "mimetype": "text/x-python",
   "name": "python",
   "nbconvert_exporter": "python",
   "pygments_lexer": "ipython3",
   "version": "3.8.8"
  }
 },
 "nbformat": 4,
 "nbformat_minor": 5
}

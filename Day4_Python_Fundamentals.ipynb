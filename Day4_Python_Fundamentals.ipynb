{
 "cells": [
  {
   "cell_type": "code",
   "execution_count": 24,
   "id": "28b26fe4",
   "metadata": {},
   "outputs": [
    {
     "name": "stdout",
     "output_type": "stream",
     "text": [
      "['Ram', 'veda', 'shruthi']\n"
     ]
    }
   ],
   "source": [
    "#List datatype is collection of items and it's mutuable datatype\n",
    "students =['Ram','veda','shruthi']\n",
    "print (students)"
   ]
  },
  {
   "cell_type": "code",
   "execution_count": 29,
   "id": "ef630211",
   "metadata": {},
   "outputs": [
    {
     "name": "stdout",
     "output_type": "stream",
     "text": [
      "veda\n",
      "Veda\n"
     ]
    }
   ],
   "source": [
    "#Access the values from list\n",
    "print (students[1])\n",
    "print (students[1].title())"
   ]
  },
  {
   "cell_type": "code",
   "execution_count": 30,
   "id": "73567151",
   "metadata": {},
   "outputs": [
    {
     "name": "stdout",
     "output_type": "stream",
     "text": [
      "['Ram', 'veda', 'shruthi', 'Rajesh', 'Rajesh']\n"
     ]
    }
   ],
   "source": [
    "#adding new values to list\n",
    "students.append('Rajesh')\n",
    "print(students)"
   ]
  },
  {
   "cell_type": "code",
   "execution_count": 45,
   "id": "777e2f8a",
   "metadata": {},
   "outputs": [
    {
     "name": "stdout",
     "output_type": "stream",
     "text": [
      "['iamzero', 'Ram', 'veda', 'shruthi', 'Rajesh']\n"
     ]
    }
   ],
   "source": [
    "#add values to particular position in the list\n",
    "students.insert(0,'iamzero')\n",
    "print (students)"
   ]
  },
  {
   "cell_type": "code",
   "execution_count": 46,
   "id": "d1d9c464",
   "metadata": {},
   "outputs": [],
   "source": [
    "#delete value from list\n",
    "del students[0]"
   ]
  },
  {
   "cell_type": "code",
   "execution_count": 47,
   "id": "37734c6c",
   "metadata": {},
   "outputs": [
    {
     "name": "stdout",
     "output_type": "stream",
     "text": [
      "['Ram', 'veda', 'shruthi', 'Rajesh']\n"
     ]
    }
   ],
   "source": [
    "print (students)"
   ]
  },
  {
   "cell_type": "code",
   "execution_count": null,
   "id": "33784126",
   "metadata": {},
   "outputs": [],
   "source": []
  }
 ],
 "metadata": {
  "kernelspec": {
   "display_name": "Python 3",
   "language": "python",
   "name": "python3"
  },
  "language_info": {
   "codemirror_mode": {
    "name": "ipython",
    "version": 3
   },
   "file_extension": ".py",
   "mimetype": "text/x-python",
   "name": "python",
   "nbconvert_exporter": "python",
   "pygments_lexer": "ipython3",
   "version": "3.8.8"
  }
 },
 "nbformat": 4,
 "nbformat_minor": 5
}

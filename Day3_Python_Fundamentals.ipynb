{
 "cells": [
  {
   "cell_type": "code",
   "execution_count": 6,
   "id": "66ff904f",
   "metadata": {},
   "outputs": [],
   "source": [
    "lastname='musyala'\n",
    "firstname='ram'"
   ]
  },
  {
   "cell_type": "code",
   "execution_count": 9,
   "id": "9d625866",
   "metadata": {},
   "outputs": [
    {
     "name": "stdout",
     "output_type": "stream",
     "text": [
      "ram musyala\n"
     ]
    }
   ],
   "source": [
    "#Introduction to f function\n",
    "fullname=f\"{firstname} {lastname}\"\n",
    "print(fullname)"
   ]
  },
  {
   "cell_type": "code",
   "execution_count": 10,
   "id": "7b0400de",
   "metadata": {},
   "outputs": [
    {
     "name": "stdout",
     "output_type": "stream",
     "text": [
      "Ram Musyala\n"
     ]
    }
   ],
   "source": [
    "#print the name stating with captial\n",
    "print(fullname.title())"
   ]
  },
  {
   "cell_type": "code",
   "execution_count": 11,
   "id": "fcf27896",
   "metadata": {},
   "outputs": [
    {
     "name": "stdout",
     "output_type": "stream",
     "text": [
      "RAM MUSYALA\n"
     ]
    }
   ],
   "source": [
    "#print name in Cpatial\n",
    "print(fullname.upper())"
   ]
  },
  {
   "cell_type": "code",
   "execution_count": 12,
   "id": "79196ad2",
   "metadata": {},
   "outputs": [
    {
     "name": "stdout",
     "output_type": "stream",
     "text": [
      "ram musyala\n"
     ]
    }
   ],
   "source": [
    "#print name in lower case\n",
    "print(fullname.lower())"
   ]
  },
  {
   "cell_type": "code",
   "execution_count": 14,
   "id": "d86c8ce7",
   "metadata": {},
   "outputs": [
    {
     "name": "stdout",
     "output_type": "stream",
     "text": [
      "favaorite Language\n",
      "python\n",
      "java\n",
      "oracle\n"
     ]
    }
   ],
   "source": [
    "#example for new line charecter\n",
    "print(\"favaorite Language\\npython\\njava\\noracle\")"
   ]
  },
  {
   "cell_type": "code",
   "execution_count": 16,
   "id": "a752f947",
   "metadata": {},
   "outputs": [
    {
     "name": "stdout",
     "output_type": "stream",
     "text": [
      "favaorite Language\n",
      "\tpython\n",
      "\tjava\n",
      "\toracle\n"
     ]
    }
   ],
   "source": [
    "#example for new line charecter with tab\n",
    "print(\"favaorite Language\\n\\tpython\\n\\tjava\\n\\toracle\")"
   ]
  },
  {
   "cell_type": "code",
   "execution_count": 17,
   "id": "92449b5e",
   "metadata": {},
   "outputs": [
    {
     "name": "stdout",
     "output_type": "stream",
     "text": [
      "Ram\n"
     ]
    }
   ],
   "source": [
    "#example for whitespaces with strip function\n",
    "name1='   Ram'\n",
    "name2='veda  '\n",
    "print(name1.lstrip())\n"
   ]
  },
  {
   "cell_type": "code",
   "execution_count": 18,
   "id": "ef23e6be",
   "metadata": {},
   "outputs": [
    {
     "name": "stdout",
     "output_type": "stream",
     "text": [
      "veda\n"
     ]
    }
   ],
   "source": [
    "print(name2.rstrip())"
   ]
  },
  {
   "cell_type": "code",
   "execution_count": 19,
   "id": "b3b74fc9",
   "metadata": {},
   "outputs": [],
   "source": [
    "fullname12=f\"{name1} {name2}\""
   ]
  },
  {
   "cell_type": "code",
   "execution_count": 20,
   "id": "ff5ab48c",
   "metadata": {},
   "outputs": [
    {
     "name": "stdout",
     "output_type": "stream",
     "text": [
      "ram musyala\n"
     ]
    }
   ],
   "source": [
    "print(fullname.strip())"
   ]
  },
  {
   "cell_type": "code",
   "execution_count": 21,
   "id": "ba45a1b8",
   "metadata": {},
   "outputs": [
    {
     "name": "stdout",
     "output_type": "stream",
     "text": [
      "Ram Musyala\n"
     ]
    }
   ],
   "source": [
    "print(fullname.strip().title())"
   ]
  },
  {
   "cell_type": "code",
   "execution_count": null,
   "id": "5bbc4231",
   "metadata": {},
   "outputs": [],
   "source": []
  },
  {
   "cell_type": "code",
   "execution_count": null,
   "id": "cefa2f16",
   "metadata": {},
   "outputs": [],
   "source": []
  }
 ],
 "metadata": {
  "kernelspec": {
   "display_name": "Python 3",
   "language": "python",
   "name": "python3"
  },
  "language_info": {
   "codemirror_mode": {
    "name": "ipython",
    "version": 3
   },
   "file_extension": ".py",
   "mimetype": "text/x-python",
   "name": "python",
   "nbconvert_exporter": "python",
   "pygments_lexer": "ipython3",
   "version": "3.8.8"
  }
 },
 "nbformat": 4,
 "nbformat_minor": 5
}

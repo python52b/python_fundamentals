{
 "cells": [
  {
   "cell_type": "code",
   "execution_count": 1,
   "id": "b7425b5f",
   "metadata": {},
   "outputs": [
    {
     "name": "stdout",
     "output_type": "stream",
     "text": [
      "Welcome to Day-2 practice\n"
     ]
    }
   ],
   "source": [
    "print(\"Welcome to Day-2 practice\")"
   ]
  },
  {
   "cell_type": "code",
   "execution_count": 2,
   "id": "ddeb7083",
   "metadata": {},
   "outputs": [],
   "source": [
    "x=5\n",
    "y=10"
   ]
  },
  {
   "cell_type": "code",
   "execution_count": 13,
   "id": "8eb9cb50",
   "metadata": {},
   "outputs": [
    {
     "name": "stdout",
     "output_type": "stream",
     "text": [
      "15\n"
     ]
    }
   ],
   "source": [
    "z=x+y\n",
    "print(z)"
   ]
  },
  {
   "cell_type": "code",
   "execution_count": 4,
   "id": "480f84a9",
   "metadata": {},
   "outputs": [
    {
     "name": "stdout",
     "output_type": "stream",
     "text": [
      "Musyala Ram\n"
     ]
    }
   ],
   "source": [
    "firstname ='Ram'\n",
    "lastname='Musyala'\n",
    "print(lastname,firstname)"
   ]
  },
  {
   "cell_type": "code",
   "execution_count": 5,
   "id": "ed0fae4d",
   "metadata": {},
   "outputs": [],
   "source": [
    "address1 = 'USA'"
   ]
  },
  {
   "cell_type": "code",
   "execution_count": 6,
   "id": "6a3073a8",
   "metadata": {},
   "outputs": [
    {
     "name": "stdout",
     "output_type": "stream",
     "text": [
      "Ram from USA\n"
     ]
    }
   ],
   "source": [
    "print(firstname+\" from \" + address1)"
   ]
  },
  {
   "cell_type": "code",
   "execution_count": 8,
   "id": "c3783282",
   "metadata": {},
   "outputs": [
    {
     "name": "stdout",
     "output_type": "stream",
     "text": [
      "Hyderabad Chennai Mumbai\n"
     ]
    }
   ],
   "source": [
    "singlequote ='Hyderabad'\n",
    "doublequote =\"Chennai\"\n",
    "triplequote =\"\"\"Mumbai\"\"\"\n",
    "print(singlequote,doublequote,triplequote)"
   ]
  },
  {
   "cell_type": "code",
   "execution_count": 14,
   "id": "12be22d4",
   "metadata": {},
   "outputs": [],
   "source": [
    "#commented line"
   ]
  },
  {
   "cell_type": "code",
   "execution_count": 15,
   "id": "9775a7dc",
   "metadata": {},
   "outputs": [
    {
     "name": "stdout",
     "output_type": "stream",
     "text": [
      "test commnt\n"
     ]
    }
   ],
   "source": [
    "print('test commnt') #this is for comment printing"
   ]
  },
  {
   "cell_type": "code",
   "execution_count": 18,
   "id": "74ec7e55",
   "metadata": {},
   "outputs": [
    {
     "data": {
      "text/plain": [
       "str"
      ]
     },
     "execution_count": 18,
     "metadata": {},
     "output_type": "execute_result"
    }
   ],
   "source": [
    "type(x)\n"
   ]
  },
  {
   "cell_type": "code",
   "execution_count": 19,
   "id": "171f7573",
   "metadata": {},
   "outputs": [
    {
     "data": {
      "text/plain": [
       "str"
      ]
     },
     "execution_count": 19,
     "metadata": {},
     "output_type": "execute_result"
    }
   ],
   "source": [
    "type(address1)"
   ]
  },
  {
   "cell_type": "code",
   "execution_count": null,
   "id": "e579bbb5",
   "metadata": {},
   "outputs": [],
   "source": []
  }
 ],
 "metadata": {
  "kernelspec": {
   "display_name": "Python 3",
   "language": "python",
   "name": "python3"
  },
  "language_info": {
   "codemirror_mode": {
    "name": "ipython",
    "version": 3
   },
   "file_extension": ".py",
   "mimetype": "text/x-python",
   "name": "python",
   "nbconvert_exporter": "python",
   "pygments_lexer": "ipython3",
   "version": "3.8.8"
  }
 },
 "nbformat": 4,
 "nbformat_minor": 5
}
